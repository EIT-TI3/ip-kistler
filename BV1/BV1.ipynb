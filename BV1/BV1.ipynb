{
 "cells": [
  {
   "cell_type": "code",
   "execution_count": 2,
   "metadata": {},
   "outputs": [],
   "source": [
    "import numpy as np"
   ]
  },
  {
   "cell_type": "code",
   "execution_count": 10,
   "metadata": {},
   "outputs": [],
   "source": [
    "def homogenize(p: np.array):\n",
    "    return np.append(p, 1)\n",
    "\n",
    "def dehomogenize(p: np.array):\n",
    "    return (p / p[-1])[:-1]\n",
    "\n",
    "def get_translation_matrix(tau: np.array = np.zeros((3, 1)), C: np.array = np.identity(3)):\n",
    "    a = np.concatenate((C, np.zeros((1,3))))\n",
    "    t = np.reshape(np.expand_dims(np.append(tau, 1), axis=0), (4, 1))\n",
    "    return np.concatenate((a, t), axis=1)\n",
    "\n",
    "def get_intrinsic_param_matrix(f: float):\n",
    "    return np.array([[f, 0, 0, 0], [0, f, 0, 0], [0, 0, 1, 0]])"
   ]
  },
  {
   "cell_type": "code",
   "execution_count": 4,
   "metadata": {},
   "outputs": [
    {
     "name": "stdout",
     "output_type": "stream",
     "text": [
      "[120.  -2.  15.]\n"
     ]
    }
   ],
   "source": [
    "# Page 46\n",
    "o_c = np.array([20, 0, 10])\n",
    "p_c = np.array([100, -2, 5])\n",
    "p_c_h = homogenize(p_c)\n",
    "T_c_w = get_translation_matrix(tau=o_c)\n",
    "p_w_h = T_c_w @ p_c_h\n",
    "p_w = dehomogenize(p_w_h)\n",
    "print(p_w)"
   ]
  },
  {
   "cell_type": "code",
   "execution_count": 5,
   "metadata": {},
   "outputs": [
    {
     "name": "stdout",
     "output_type": "stream",
     "text": [
      "[10.    67.165 74.235]\n"
     ]
    }
   ],
   "source": [
    "# Page 50\n",
    "C_w_c = np.array([[1, 0, 0], [0, 0.707, 0.707], [0, -0.707, 0.707]])\n",
    "p_w = np.array([10, -5, 100])\n",
    "p_w_h = homogenize(p_w)\n",
    "T_w_c = get_translation_matrix(C=C_w_c)\n",
    "p_c_h = T_w_c @ p_w_h\n",
    "p_c = dehomogenize(p_c_h)\n",
    "print(p_c)"
   ]
  },
  {
   "cell_type": "code",
   "execution_count": 8,
   "metadata": {},
   "outputs": [
    {
     "name": "stdout",
     "output_type": "stream",
     "text": [
      "[-10.     60.095  67.165]\n"
     ]
    }
   ],
   "source": [
    "# Page 53\n",
    "o_c = np.array([20, 0, 10])\n",
    "p_w = np.array([10, -5, 100])\n",
    "p_w_h = homogenize(p_w)\n",
    "C_w_c = np.array([[1, 0, 0], [0, 0.707, 0.707], [0, -0.707, 0.707]])\n",
    "T_w_c = get_translation_matrix(tau=-C_w_c @ o_c, C=C_w_c)\n",
    "p_c_h = T_w_c @ p_w_h\n",
    "p_c = dehomogenize(p_c_h)\n",
    "print(p_c)"
   ]
  },
  {
   "cell_type": "code",
   "execution_count": 11,
   "metadata": {},
   "outputs": [
    {
     "name": "stdout",
     "output_type": "stream",
     "text": [
      "[-0.05  0.1 ]\n"
     ]
    }
   ],
   "source": [
    "# Page 56\n",
    "p_c = np.array([-10, 20, 100])\n",
    "p_c_h = homogenize(p_c)\n",
    "Z = get_intrinsic_param_matrix(0.5)\n",
    "q_h = Z @ p_c_h\n",
    "q = dehomogenize(q_h)\n",
    "print(q)"
   ]
  },
  {
   "cell_type": "code",
   "execution_count": null,
   "metadata": {},
   "outputs": [],
   "source": []
  }
 ],
 "metadata": {
  "kernelspec": {
   "display_name": "Python 3",
   "language": "python",
   "name": "python3"
  },
  "language_info": {
   "codemirror_mode": {
    "name": "ipython",
    "version": 3
   },
   "file_extension": ".py",
   "mimetype": "text/x-python",
   "name": "python",
   "nbconvert_exporter": "python",
   "pygments_lexer": "ipython3",
   "version": "3.10.6"
  },
  "orig_nbformat": 4
 },
 "nbformat": 4,
 "nbformat_minor": 2
}
