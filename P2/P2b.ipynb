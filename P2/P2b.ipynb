{
 "cells": [
  {
   "cell_type": "code",
   "execution_count": 1,
   "id": "6c7da55e",
   "metadata": {},
   "outputs": [],
   "source": [
    "%matplotlib qt\n",
    "import numpy as np\n",
    "import cv2\n",
    "import matplotlib.pyplot as plt"
   ]
  },
  {
   "cell_type": "markdown",
   "id": "4c9d397f",
   "metadata": {},
   "source": [
    "---\n",
    "#### P2b: Directional Derivatives\n",
    "\n",
    "---\n",
    "<div class=\"alert alert-info\">\n",
    "<p>\n",
    "University of Applied Sciences Munich<br>\n",
    "Dept of Electrical Enineering and Information Technology<br>\n",
    "Institute for Applications of Machine Learning and Intelligent Systems (IAMLIS)<br>\n",
    "&emsp;&emsp;&emsp;&emsp;&emsp;&emsp;&emsp;&emsp;&emsp;&emsp;&emsp;&emsp;&emsp;&emsp;&emsp;&emsp;\n",
    "&emsp;&emsp;&emsp;&emsp;&emsp;&emsp;&emsp;&emsp;&emsp;&emsp;&emsp;&emsp;&emsp;&emsp;&emsp;&emsp;\n",
    "&emsp;&emsp;&emsp;&emsp;&emsp;&emsp;&emsp;&emsp;&emsp;&emsp;&emsp;&emsp;&emsp;&emsp;&emsp;&emsp;&emsp;&emsp;&emsp;&emsp;(c) Alfred Schöttl 2023<br>\n",
    "</p>\n",
    "</div>\n",
    "\n",
    "In this notebook, we will compute the directional derivatives of images."
   ]
  },
  {
   "cell_type": "code",
   "execution_count": 2,
   "id": "d082d4fa",
   "metadata": {},
   "outputs": [],
   "source": [
    "fn = '../imgs/wheatgray.jpg'"
   ]
  },
  {
   "cell_type": "markdown",
   "id": "bf8ee941",
   "metadata": {},
   "source": [
    "### 1. Read in the file and rescale to 0..1\n",
    "Read in the file as grayscale image (with option `cv2.IMREAD_GRAYSCALE`). Rescale the data to 0..1 and save the image as `img`."
   ]
  },
  {
   "cell_type": "code",
   "execution_count": 3,
   "id": "823b3722",
   "metadata": {},
   "outputs": [],
   "source": [
    "img = cv2.imread(fn, flags=cv2.IMREAD_GRAYSCALE) / 255\n"
   ]
  },
  {
   "cell_type": "markdown",
   "id": "def67e9b",
   "metadata": {},
   "source": [
    "### 2. Compute and display the gradients in x- and y-direction.\n",
    "Create two 3x3 matrices `sobel_x` and `sobel_y` as ordinary numpy arrays. Use the filter2D command you already know to perform the two filters to our `img`. Save the results in `dimg_x` and `dimg_y`. Observe that these results may contain negative values!\n",
    "\n",
    "_Tip_: It is sufficient to type in one of the matrices. The other matrix may be computed from the first (how?)."
   ]
  },
  {
   "cell_type": "code",
   "execution_count": 4,
   "id": "d6358a83",
   "metadata": {},
   "outputs": [
    {
     "data": {
      "text/plain": [
       "<matplotlib.image.AxesImage at 0x7f328da1ba00>"
      ]
     },
     "execution_count": 4,
     "metadata": {},
     "output_type": "execute_result"
    }
   ],
   "source": [
    "sobelx = np.array([[-1, 0, 1], [-2, 0, 2], [-1, 0, 1]])\n",
    "sobely = np.array([[-1, -2, -1], [-0, 0, 0], [1, 2, 1]])\n",
    "\n",
    "dimg_x = cv2.filter2D(img, -1, sobelx)\n",
    "dimg_y = cv2.filter2D(img, -1, sobely)\n",
    "plt.imshow(dimg_y)"
   ]
  },
  {
   "cell_type": "markdown",
   "id": "4cb7cf57",
   "metadata": {},
   "source": [
    "Plot the gradient images. We use another color map here with blueish colors for negative values and redish colors for positive values. You may adjust the arguments `vmin` and `vmax`, which specify the minimum and maximum value which is assigned to the first and the last color of the color map (smaller and greater values are clipped)."
   ]
  },
  {
   "cell_type": "code",
   "execution_count": 5,
   "id": "94c4c4b0",
   "metadata": {},
   "outputs": [],
   "source": [
    "plt.figure('Gradients')\n",
    "plt.subplot(2,1,1)\n",
    "plt.imshow(dimg_x, cmap='coolwarm', vmin=-1, vmax=1)\n",
    "plt.axis(False)\n",
    "plt.subplot(2,1,2)\n",
    "plt.imshow(dimg_y, cmap='coolwarm', vmin=-1, vmax=1)\n",
    "plt.axis(False)\n",
    "plt.show()"
   ]
  },
  {
   "attachments": {},
   "cell_type": "markdown",
   "id": "fdf82d0f",
   "metadata": {},
   "source": [
    "### 3. Compute directional derivatives.\n",
    "The following code is an animation which demonstrates how the derivatives in various directions look like (you do not need to understand the plotting stuff here). The direction vector is `u`, computed as \n",
    "$$u=\\left({\\cos\\varphi\\\\\\sin\\varphi}\\right)$$\n",
    "for varying angles $\\varphi$ (see line 12). Complete the missing part of line 13 to compute the directional derivative in $u$-direction and save the result in `edges`."
   ]
  },
  {
   "cell_type": "code",
   "execution_count": 6,
   "id": "a776f4ba",
   "metadata": {},
   "outputs": [],
   "source": [
    "plt.figure('Directional derivatives', figsize=(18,12))\n",
    "ax1 = plt.subplot(1,2,1)\n",
    "edge_img = ax1.imshow(dimg_x, cmap='coolwarm', vmin=-1, vmax=1)\n",
    "ax2 = plt.subplot(1,2,2)\n",
    "line, = ax2.plot([0, 0], [0, 1], 'r')\n",
    "ax2.set_xlim(-1.0, 1.0)\n",
    "ax2.set_ylim(-1.0, 1.0)\n",
    "ax2.grid()\n",
    "\n",
    "for phi in np.linspace(0, 4*np.pi, 144):        \n",
    "    u = [np.cos(phi), np.sin(phi)]\n",
    "    #\n",
    "    # create the edge image here\n",
    "    # \n",
    "    edges = np.abs(dimg_x * u[0] + dimg_y *u[1])\n",
    "    line.set_data([0, u[0]], [0, u[1]])\n",
    "    edge_img.set_data(edges)\n",
    "    plt.gcf().canvas.draw()\n",
    "    plt.gcf().canvas.flush_events()"
   ]
  },
  {
   "cell_type": "code",
   "execution_count": null,
   "id": "192fff63",
   "metadata": {},
   "outputs": [],
   "source": []
  }
 ],
 "metadata": {
  "kernelspec": {
   "display_name": "Python 3 (ipykernel)",
   "language": "python",
   "name": "python3"
  },
  "language_info": {
   "codemirror_mode": {
    "name": "ipython",
    "version": 3
   },
   "file_extension": ".py",
   "mimetype": "text/x-python",
   "name": "python",
   "nbconvert_exporter": "python",
   "pygments_lexer": "ipython3",
   "version": "3.10.9"
  }
 },
 "nbformat": 4,
 "nbformat_minor": 5
}
