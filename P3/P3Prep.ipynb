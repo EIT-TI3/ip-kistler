{
 "cells": [
  {
   "cell_type": "code",
   "execution_count": 2,
   "id": "8bd1ae1c",
   "metadata": {},
   "outputs": [],
   "source": [
    "%matplotlib inline\n",
    "import cv2\n",
    "import matplotlib.pyplot as plt\n",
    "\n",
    "def disp_img(img):\n",
    "    plt.imshow(img, cmap='gray')\n",
    "    plt.axis(False)"
   ]
  },
  {
   "cell_type": "markdown",
   "id": "367bdb39",
   "metadata": {},
   "source": [
    "---\n",
    "#### P3Prep:Hough Transforms\n",
    "\n",
    "---\n",
    "<div class=\"alert alert-info\">\n",
    "<p>\n",
    "University of Applied Sciences Munich<br>\n",
    "Dept of Electrical Enineering and Information Technology<br>\n",
    "Institute for Applications of Machine Learning and Intelligent Systems (IAMLIS)<br>\n",
    "&emsp;&emsp;&emsp;&emsp;&emsp;&emsp;&emsp;&emsp;&emsp;&emsp;&emsp;&emsp;&emsp;&emsp;&emsp;&emsp;\n",
    "&emsp;&emsp;&emsp;&emsp;&emsp;&emsp;&emsp;&emsp;&emsp;&emsp;&emsp;&emsp;&emsp;&emsp;&emsp;&emsp;\n",
    "&emsp;&emsp;&emsp;&emsp;&emsp;&emsp;&emsp;&emsp;&emsp;&emsp;&emsp;&emsp;&emsp;&emsp;&emsp;&emsp;&emsp;&emsp;&emsp;&emsp;(c) Alfred Schöttl 2023<br>\n",
    "</p>\n",
    "</div>\n",
    "\n",
    "In this notebook, we will introduce some functions needed to perform and analyze a Hough transform."
   ]
  },
  {
   "cell_type": "markdown",
   "id": "8e1072c2",
   "metadata": {},
   "source": [
    "### Instructions\n",
    "\n",
    "1. Let's read in an image with file name `fn` as _grayscale_ image. "
   ]
  },
  {
   "cell_type": "code",
   "execution_count": 3,
   "id": "17d8d00e",
   "metadata": {},
   "outputs": [],
   "source": [
    "fn = '../imgs/threshold.jpg'\n",
    "img = cv2.imread(fn, flags=cv2.IMREAD_GRAYSCALE)"
   ]
  },
  {
   "cell_type": "markdown",
   "id": "bd7a5287",
   "metadata": {},
   "source": [
    "2. The Canny edge operator\n",
    "\n",
    "We have learned to know the Canny edge detector in class and may revise the algorithm before starting the assignment. \n",
    "\n",
    "The corresponding OpenCV command is `cv2.Canny(..., threshold1=..., threshold2=...)` with the two thresholds we called $S$ and $T$ in class. Produce an edge image of the scene and display it. You may you the function `disp_img` as defined above for a simple display. Try out different thresholds to gain a feeling for the parameters. \n",
    "\n",
    "Adjust the parameters so that the inner part of the butterfly on the left-hand side does not contain much details while on the right-hand side almost every color patch is surrounded by its own contour.\n",
    "\n",
    "_Remark_: `cv2.Canny` does not include a blurring step in advance of the processing. We will blur the image in our practical session before the application of the `Canny` command. Feel free to try out the effect of a blur here."
   ]
  },
  {
   "cell_type": "code",
   "execution_count": null,
   "id": "8c254284",
   "metadata": {},
   "outputs": [],
   "source": [
    "edge_img = cv2.Canny()\n"
   ]
  },
  {
   "cell_type": "markdown",
   "id": "ee05db6e",
   "metadata": {},
   "source": [
    "3. The Hough transform\n",
    "\n",
    "Revise the Hough algorithm. You will need to understand what a Hough accumulator array is in the practical session."
   ]
  }
 ],
 "metadata": {
  "kernelspec": {
   "display_name": "Python 3 (ipykernel)",
   "language": "python",
   "name": "python3"
  },
  "language_info": {
   "codemirror_mode": {
    "name": "ipython",
    "version": 3
   },
   "file_extension": ".py",
   "mimetype": "text/x-python",
   "name": "python",
   "nbconvert_exporter": "python",
   "pygments_lexer": "ipython3",
   "version": "3.10.9"
  }
 },
 "nbformat": 4,
 "nbformat_minor": 5
}
